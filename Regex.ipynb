{
 "cells": [
  {
   "cell_type": "markdown",
   "metadata": {},
   "source": [
    "# Regular Expression\n",
    "\n",
    "Import the re module to use the regular expression.\n",
    "\n",
    "Match\n",
    "\n",
    "\n",
    "\n",
    "Search\n",
    "\n",
    "Find all\n",
    "\n",
    "Split\n",
    "\n",
    "Replacing a string\n"
   ]
  },
  {
   "cell_type": "markdown",
   "metadata": {},
   "source": [
    "Quantifier, Sequence character, Special Characters\n",
    "Characters represent more than one character to be matched in string is callled quantifier"
   ]
  },
  {
   "cell_type": "code",
   "execution_count": 10,
   "metadata": {},
   "outputs": [
    {
     "name": "stdout",
     "output_type": "stream",
     "text": [
      "<re.Match object; span=(0, 3), match='mat'>\n"
     ]
    }
   ],
   "source": [
    "#Match\n",
    "# limitation: looks for pattern only in the begining.\n",
    "import re\n",
    "str= 'mat math bat rat cat'\n",
    "res= re.match(r'm\\w\\w' , str)\n",
    "print(res)"
   ]
  },
  {
   "cell_type": "code",
   "execution_count": 9,
   "metadata": {},
   "outputs": [
    {
     "name": "stdout",
     "output_type": "stream",
     "text": [
      "mat\n"
     ]
    }
   ],
   "source": [
    "#Match\n",
    "import re\n",
    "str= 'mat math bat rat cat'\n",
    "res= re.match(r'm\\w\\w',str)\n",
    "print(res.group())"
   ]
  },
  {
   "cell_type": "code",
   "execution_count": 12,
   "metadata": {},
   "outputs": [
    {
     "name": "stdout",
     "output_type": "stream",
     "text": [
      "<re.Match object; span=(0, 3), match='mat'>\n"
     ]
    }
   ],
   "source": [
    "#Search\n",
    "#Looks for the match in the whole string\n",
    "import re\n",
    "str= 'mat math bat rat cat'\n",
    "res= re.search(r'm\\w\\w' , str)\n",
    "print(res)"
   ]
  },
  {
   "cell_type": "code",
   "execution_count": 14,
   "metadata": {},
   "outputs": [
    {
     "name": "stdout",
     "output_type": "stream",
     "text": [
      "<re.Match object; span=(0, 3), match='mat'>\n"
     ]
    }
   ],
   "source": [
    "import re\n",
    "str= 'math bat rat cat mat'\n",
    "res= re.search(r'm\\w\\w' , str)\n",
    "print(res)"
   ]
  },
  {
   "cell_type": "code",
   "execution_count": 18,
   "metadata": {},
   "outputs": [
    {
     "name": "stdout",
     "output_type": "stream",
     "text": [
      "<re.Match object; span=(8, 11), match='man'>\n"
     ]
    }
   ],
   "source": [
    "import re\n",
    "str= 'bat rat man cat mat'\n",
    "res= re.search(r'm\\w\\w' , str)\n",
    "print(res)"
   ]
  },
  {
   "cell_type": "code",
   "execution_count": 17,
   "metadata": {},
   "outputs": [
    {
     "name": "stdout",
     "output_type": "stream",
     "text": [
      "['mat', 'man', 'mat']\n"
     ]
    }
   ],
   "source": [
    "#Find all\n",
    "import re\n",
    "str= 'math bat rat man cat mat'\n",
    "res= re.findall(r'm\\w\\w' , str)\n",
    "print(res)"
   ]
  },
  {
   "cell_type": "code",
   "execution_count": 19,
   "metadata": {},
   "outputs": [
    {
     "name": "stdout",
     "output_type": "stream",
     "text": [
      "['can bat ', ' rat ', ' cat ', '']\n"
     ]
    }
   ],
   "source": [
    "# Split\n",
    "import re\n",
    "str= 'can bat mat rat man cat mat'\n",
    "res= re.split(r'm\\w\\w' , str)\n",
    "print(res)"
   ]
  },
  {
   "cell_type": "code",
   "execution_count": 20,
   "metadata": {},
   "outputs": [
    {
     "name": "stdout",
     "output_type": "stream",
     "text": [
      "can bat  m98 rat  m98 cat  m98\n"
     ]
    }
   ],
   "source": [
    "# Sub method, substitute, replacing\n",
    "\n",
    "str= 'can bat mat rat man cat mat'\n",
    "res= re.sub(r'm\\w\\w' ,' m98', str)\n",
    "print(res)"
   ]
  },
  {
   "cell_type": "code",
   "execution_count": 22,
   "metadata": {},
   "outputs": [
    {
     "name": "stdout",
     "output_type": "stream",
     "text": [
      "<re.Match object; span=(0, 3), match='cat'>\n"
     ]
    }
   ],
   "source": [
    "#Write the regular expression and use proper method which give output as: 'cat' in str\n",
    "\n",
    "import re\n",
    "str= 'cat mat rat bat'\n",
    "res= re.search(r'c\\w\\w', str)\n",
    "print(res)"
   ]
  },
  {
   "cell_type": "code",
   "execution_count": 23,
   "metadata": {},
   "outputs": [
    {
     "name": "stdout",
     "output_type": "stream",
     "text": [
      "['Python', 's', 'Programming', 'is', 'very', 'easy', 'to', 'learn', '']\n"
     ]
    }
   ],
   "source": [
    "import re\n",
    "str=\"Python's Programming is very easy to learn.\"\n",
    "res= re.split(r'\\W+', str)\n",
    "print(res)"
   ]
  },
  {
   "cell_type": "code",
   "execution_count": 25,
   "metadata": {},
   "outputs": [
    {
     "name": "stdout",
     "output_type": "stream",
     "text": [
      "Python Programming is very easy to learn.\n"
     ]
    }
   ],
   "source": [
    "import re\n",
    "str=\"Python's Programming is very easy to learn.\"\n",
    "res= re.sub(r\"Python's\",'Python', str)\n",
    "print(res)"
   ]
  },
  {
   "cell_type": "code",
   "execution_count": null,
   "metadata": {},
   "outputs": [],
   "source": [
    "import re\n",
    "str=\"Peter qiper picked a peck of pickled peppers p pi.\"\n",
    "res= re.sub(r\"Python's\",'Python', str)\n",
    "print(res)"
   ]
  },
  {
   "cell_type": "code",
   "execution_count": null,
   "metadata": {},
   "outputs": [],
   "source": [
    "# "
   ]
  },
  {
   "cell_type": "code",
   "execution_count": 26,
   "metadata": {},
   "outputs": [
    {
     "name": "stdout",
     "output_type": "stream",
     "text": [
      "['8th', '11th']\n"
     ]
    }
   ],
   "source": [
    "# Retrive allwords starting with a digit\n",
    "import re\n",
    "str= 'The elcetion in delhi will be held on 8th and the result for the same will be on 11th'\n",
    "res= re.findall(r'\\d[\\w]*', str)\n",
    "print(res)"
   ]
  },
  {
   "cell_type": "code",
   "execution_count": 28,
   "metadata": {},
   "outputs": [
    {
     "name": "stdout",
     "output_type": "stream",
     "text": [
      "['Peter', 'qiper']\n"
     ]
    }
   ],
   "source": [
    "#RFetrive all words which have 5 characters\n",
    "import re\n",
    "str=\"Peter qiper picked a peck of pickled peppers p pi.\"\n",
    "res= re.findall(r'\\b\\w{5}\\b', str)\n",
    "print(res)"
   ]
  },
  {
   "cell_type": "code",
   "execution_count": 29,
   "metadata": {},
   "outputs": [
    {
     "name": "stdout",
     "output_type": "stream",
     "text": [
      "['Peter', 'qiper', 'peck']\n"
     ]
    }
   ],
   "source": [
    "#Retrive words with lenghty 3 to 5\n",
    "import re\n",
    "str=\"Peter qiper picked a peck of pickled peppers p pi.\"\n",
    "res= re.findall(r'\\b\\w{3,5}\\b', str)\n",
    "print(res)"
   ]
  },
  {
   "cell_type": "code",
   "execution_count": null,
   "metadata": {},
   "outputs": [],
   "source": [
    "#retrive the last word if it starts with c\n",
    "res= re.findall(r'\\bc[\\w]*\\b\\z' , str)"
   ]
  },
  {
   "cell_type": "code",
   "execution_count": null,
   "metadata": {},
   "outputs": [],
   "source": [
    "# Retrive phone number from string.\n",
    "res= re.search(r'\\d+' , str)"
   ]
  },
  {
   "cell_type": "markdown",
   "metadata": {},
   "source": [
    "Questions:-\n",
    "1.\n",
    "\n",
    "2.\n",
    "\n",
    "3.\n",
    "\n",
    "4."
   ]
  }
 ],
 "metadata": {
  "kernelspec": {
   "display_name": "Python 3",
   "language": "python",
   "name": "python3"
  },
  "language_info": {
   "codemirror_mode": {
    "name": "ipython",
    "version": 3
   },
   "file_extension": ".py",
   "mimetype": "text/x-python",
   "name": "python",
   "nbconvert_exporter": "python",
   "pygments_lexer": "ipython3",
   "version": "3.7.6"
  }
 },
 "nbformat": 4,
 "nbformat_minor": 4
}
