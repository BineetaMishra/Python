{
 "cells": [
  {
   "cell_type": "raw",
   "metadata": {},
   "source": [
    "why needed?\n",
    "Need to handle the exception.\n",
    "Kinds:\n",
    "compile time error -> Syntax and indentation error. Cannot do anything for this type error.\n",
    "Run time error -> Name, Value, type error. \n",
    "Only those run time error that can be handdled at run time is called exceptions.Exception Hierarchy in python\n",
    "\n"
   ]
  },
  {
   "cell_type": "code",
   "execution_count": 4,
   "metadata": {},
   "outputs": [
    {
     "name": "stdout",
     "output_type": "stream",
     "text": [
      "Enter 1st Number: 10+20j\n",
      "Enter 2nd Number: 10\n",
      "can't mod complex numbers.\n",
      "(10+20j)\n",
      "10\n"
     ]
    }
   ],
   "source": [
    "num1 = eval(input('Enter 1st Number: '))\n",
    "num2 = eval(input('Enter 2nd Number: '))\n",
    "try:\n",
    "    print(num1%num2)\n",
    "except Exception as e:\n",
    "    print(e)\n",
    "print(num1)\n",
    "print(num2)"
   ]
  },
  {
   "cell_type": "code",
   "execution_count": 2,
   "metadata": {},
   "outputs": [
    {
     "name": "stdout",
     "output_type": "stream",
     "text": [
      "Enter 1st Number: 10\n",
      "Enter 2nd Number: 0\n",
      "integer division or modulo by zero\n",
      "10\n",
      "0\n"
     ]
    }
   ],
   "source": [
    "num1 = eval(input('Enter 1st Number: '))\n",
    "num2 = eval(input('Enter 2nd Number: '))\n",
    "try:\n",
    "    print(num1%num2)\n",
    "except ZeroDivisionError as e:\n",
    "    print(e)\n",
    "except ValueError as e:\n",
    "    print(e)\n",
    "except:\n",
    "    print('Some error has been caught')\n",
    "print(num1)\n",
    "print(num2)"
   ]
  },
  {
   "cell_type": "code",
   "execution_count": null,
   "metadata": {},
   "outputs": [],
   "source": []
  },
  {
   "cell_type": "code",
   "execution_count": null,
   "metadata": {},
   "outputs": [],
   "source": []
  }
 ],
 "metadata": {
  "kernelspec": {
   "display_name": "Python 3",
   "language": "python",
   "name": "python3"
  },
  "language_info": {
   "codemirror_mode": {
    "name": "ipython",
    "version": 3
   },
   "file_extension": ".py",
   "mimetype": "text/x-python",
   "name": "python",
   "nbconvert_exporter": "python",
   "pygments_lexer": "ipython3",
   "version": "3.7.6"
  }
 },
 "nbformat": 4,
 "nbformat_minor": 4
}
