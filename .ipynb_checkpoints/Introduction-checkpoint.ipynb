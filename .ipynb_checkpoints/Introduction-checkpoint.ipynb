{
 "cells": [
  {
   "cell_type": "markdown",
   "metadata": {},
   "source": [
    "#Features of Python\n",
    "\n",
    "Simple, platform independent, portable, simple, dynamically typed, expresive, free and open source.\n",
    "Portable --> Source code is movable from one platform to another\n",
    "platform indpendent --> byte code is moveable from one platform to another\n",
    "Extensible --> code written in other PL can be used. \n",
    "Embedded  --> code written in python can be used in other PL "
   ]
  },
  {
   "cell_type": "markdown",
   "metadata": {},
   "source": [
    "# Components Data Types and Operators"
   ]
  },
  {
   "cell_type": "raw",
   "metadata": {},
   "source": [
    "Python programming components\n",
    "1.Literal  -> Any constant value is literal.(int, float,complex,None,Boolean,Binary,Octal,Hexadecimal,string)\n",
    "2.Constant -> \n",
    "3.Variable\n",
    "4.Identifier\n",
    "5.Reserved Word\n",
    "6.Expression -> return some output\n",
    "7.Statement  -> no output returned.\n",
    "8.Blocks and Indentation in Python.\n",
    "9.Comments in Python.\n"
   ]
  },
  {
   "cell_type": "code",
   "execution_count": 5,
   "metadata": {},
   "outputs": [
    {
     "name": "stdout",
     "output_type": "stream",
     "text": [
      "Python <class 'str'>\n",
      "Python1 <class 'str'>\n",
      "Python2 <class 'str'>\n",
      "\"Python3\" <class 'str'>\n",
      "'Python4' <class 'str'>\n",
      "Python5 <class 'str'>\n"
     ]
    }
   ],
   "source": [
    "#String\n",
    "\n",
    "s = 'Python'\n",
    "print(s, type(s))\n",
    "\n",
    "s1 = \"Python1\"\n",
    "print(s1, type(s1))\n",
    "\n",
    "s2 = \"\"\"Python2\"\"\"\n",
    "print(s2, type(s2))\n",
    "\n",
    "s3 = '\"Python3\"'\n",
    "print(s3, type(s3))\n",
    "\n",
    "s4 = \"'Python4'\"\n",
    "print(s4, type(s4))\n",
    "\n",
    "s5 = '''Python5'''\n",
    "print(s5, type(s5))\n"
   ]
  },
  {
   "cell_type": "code",
   "execution_count": 7,
   "metadata": {},
   "outputs": [
    {
     "name": "stdout",
     "output_type": "stream",
     "text": [
      "['False', 'None', 'True', 'and', 'as', 'assert', 'async', 'await', 'break', 'class', 'continue', 'def', 'del', 'elif', 'else', 'except', 'finally', 'for', 'from', 'global', 'if', 'import', 'in', 'is', 'lambda', 'nonlocal', 'not', 'or', 'pass', 'raise', 'return', 'try', 'while', 'with', 'yield']\n"
     ]
    }
   ],
   "source": [
    "# Reserved Word\n",
    "\n",
    "import keyword\n",
    "print(keyword.kwlist)"
   ]
  },
  {
   "cell_type": "code",
   "execution_count": 15,
   "metadata": {},
   "outputs": [
    {
     "name": "stdout",
     "output_type": "stream",
     "text": [
      "[100, 400, 900, 1600, 8100]\n"
     ]
    }
   ],
   "source": [
    "# Blocks and Indentation in Python.\n",
    "\n",
    "#Block:  Group of expression and statement.\n",
    "\n",
    "lst = [10,20,30,40,3,90,5]\n",
    "out_lst = []\n",
    "for i in lst:\n",
    "    if i%2 == 0:\n",
    "        out_lst.append(i**2)\n",
    "        \n",
    "print(out_lst)\n"
   ]
  },
  {
   "cell_type": "markdown",
   "metadata": {},
   "source": [
    "# DataTypes\n",
    "two types:-\n",
    "    1. Fundamental:  int, float,boolean,none,string\n",
    "    2. Derived: list,tuple,set,dictionary,bytes,bytearray,range,frozenset.\n",
    "    \n",
    "  "
   ]
  },
  {
   "cell_type": "code",
   "execution_count": null,
   "metadata": {},
   "outputs": [],
   "source": []
  },
  {
   "cell_type": "code",
   "execution_count": null,
   "metadata": {},
   "outputs": [],
   "source": []
  }
 ],
 "metadata": {
  "kernelspec": {
   "display_name": "Python 3",
   "language": "python",
   "name": "python3"
  },
  "language_info": {
   "codemirror_mode": {
    "name": "ipython",
    "version": 3
   },
   "file_extension": ".py",
   "mimetype": "text/x-python",
   "name": "python",
   "nbconvert_exporter": "python",
   "pygments_lexer": "ipython3",
   "version": "3.7.6"
  }
 },
 "nbformat": 4,
 "nbformat_minor": 4
}
