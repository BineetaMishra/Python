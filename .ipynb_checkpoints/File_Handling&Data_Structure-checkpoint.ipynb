{
 "cells": [
  {
   "cell_type": "markdown",
   "metadata": {},
   "source": [
    "# File Operation\n",
    "\n",
    "read ---> r\n",
    "write ---> w\n",
    "append --->a\n",
    "\n",
    "read & write ---> r+b\n",
    "Write & read ---> w+b\n",
    "Append & read --->a+b\n"
   ]
  },
  {
   "cell_type": "code",
   "execution_count": null,
   "metadata": {},
   "outputs": [],
   "source": []
  },
  {
   "cell_type": "code",
   "execution_count": null,
   "metadata": {},
   "outputs": [],
   "source": []
  },
  {
   "cell_type": "code",
   "execution_count": null,
   "metadata": {},
   "outputs": [],
   "source": []
  },
  {
   "cell_type": "code",
   "execution_count": null,
   "metadata": {},
   "outputs": [],
   "source": []
  },
  {
   "cell_type": "code",
   "execution_count": null,
   "metadata": {},
   "outputs": [],
   "source": []
  },
  {
   "cell_type": "markdown",
   "metadata": {},
   "source": [
    "# Binary File Operation\n",
    "\n",
    "read ---> rb\n",
    "write ---> wb\n",
    "append --->ap\n",
    "\n",
    "read & write ---> r+b\n",
    "Write & read ---> w+b\n",
    "Append & read --->a+b\n"
   ]
  },
  {
   "cell_type": "code",
   "execution_count": 1,
   "metadata": {},
   "outputs": [],
   "source": [
    "#Binary File Write Operation\n",
    "f = open('f1.pdf', 'wb')\n",
    "f.close()\n"
   ]
  },
  {
   "cell_type": "code",
   "execution_count": 2,
   "metadata": {},
   "outputs": [],
   "source": [
    "# Using the with keyword\n",
    "with open('f1.txt', 'w+') as f:\n",
    "    f.writelines(['ABC\\n', 'XYZ\\n', 'MNO\\n', 'STU\\n'])\n",
    "    f.seek(0)\n",
    "    f.readlines()"
   ]
  },
  {
   "cell_type": "raw",
   "metadata": {},
   "source": [
    "1. Download one image from google and copy the image into a new file called new.jpeg\n",
    "2. Copy the below content and give me the\n",
    "    a)total no. of letters.\n",
    "    b)total no. of lines.\n",
    "    c)total no. of words.\n",
    "\n",
    "What is Lorem Ipsum?\n",
    "Lorem Ipsum is simply dummy text of the printing and typesetting industry. \n",
    "Lorem Ipsum has been the industrys standard dummy text ever since the 1500s, when an unknown printer took a galley of type and scrambled it to make a type specimen book. \n",
    "It has survived not only five centuries, but also the leap into electronic typesetting, remaining essentially unchanged. \n",
    "It was popularised in the 1960s with the release of Letraset sheets containing Lorem Ipsum passages, and more recently with desktop publishing software like Aldus PageMaker including versions of Lorem Ipsum.\n",
    "————————————————————\n",
    "Why do we use it?\n",
    "It is a long established fact that a reader will be distracted by the readable content of a page when looking at its layout. \n",
    "The point of using Lorem Ipsum is that it has a more-or-less normal distribution of letters, as opposed to using Content here, content here, making it look like readable English. \n",
    "Many desktop publishing packages and web page editors now use Lorem Ipsum as their default model text, and a search for lorem ipsum will uncover many web sites still in their infancy. \n",
    "Various versions have evolved over the years, sometimes by accident, sometimes on purpose (injected humour and the like)."
   ]
  },
  {
   "cell_type": "code",
   "execution_count": 3,
   "metadata": {},
   "outputs": [],
   "source": [
    "# 1. Download one image from google and copy the image into a new file called new.jpeg\n",
    "with open('download.jpeg', 'rb') as f1:\n",
    "    with open('new.jpeg', 'wb') as f2:\n",
    "        c= f1.read()\n",
    "        f2.write(c)\n",
    "    "
   ]
  },
  {
   "cell_type": "code",
   "execution_count": 5,
   "metadata": {},
   "outputs": [
    {
     "name": "stdout",
     "output_type": "stream",
     "text": [
      "No.of Lines =  11\n",
      "No.of Characters =  1289\n",
      "No.of Words =  205\n"
     ]
    }
   ],
   "source": [
    "#2. Copy the below content and give me the\n",
    "#   a)total no. of letters.\n",
    "#   b)total no. of lines.\n",
    "#   c)total no. of words.\n",
    "\n",
    "with open('f1.txt', 'r') as f1:\n",
    "    no_of_lines = len(f1.readlines())\n",
    "    f1.seek(0)\n",
    "    no_of_char= len(f1.read())\n",
    "    f1.seek(0)\n",
    "    no_of_words=0\n",
    "    for i in f1.readlines():\n",
    "        no_of_words += len(i.split())\n",
    "print ('No.of Lines = ',no_of_lines)\n",
    "print ('No.of Characters = ',no_of_char)\n",
    "print ('No.of Words = ',no_of_words)"
   ]
  },
  {
   "cell_type": "markdown",
   "metadata": {},
   "source": [
    "# DATA STRUCTURE"
   ]
  },
  {
   "cell_type": "markdown",
   "metadata": {},
   "source": [
    "# String"
   ]
  },
  {
   "cell_type": "code",
   "execution_count": null,
   "metadata": {},
   "outputs": [],
   "source": []
  },
  {
   "cell_type": "code",
   "execution_count": null,
   "metadata": {},
   "outputs": [],
   "source": [
    "Dictionary Exception Handling"
   ]
  },
  {
   "cell_type": "code",
   "execution_count": 3,
   "metadata": {},
   "outputs": [
    {
     "name": "stdout",
     "output_type": "stream",
     "text": [
      "True\n",
      "2534496396168\n",
      "2534496396168\n"
     ]
    }
   ],
   "source": [
    "lst1 = [10, 20, 30]\n",
    "lst2 = lst1\n",
    "print(lst1 is lst2)\n",
    "print(id(lst1))\n",
    "print(id(lst2))\n",
    "\n",
    "lst1[0] = 100\n",
    "print(lst1)\n",
    "print(lst2)\n",
    "\n",
    "adding an elemnet\n"
   ]
  },
  {
   "cell_type": "code",
   "execution_count": 9,
   "metadata": {},
   "outputs": [
    {
     "name": "stdout",
     "output_type": "stream",
     "text": [
      "False\n",
      "2534495418376\n",
      "2534495433160\n",
      "[10, 20, 30]\n",
      "[111, 20, 30]\n"
     ]
    }
   ],
   "source": [
    "#Shallow Copy -----> copy/slicing.\n",
    "#slicing\n",
    "lst1 = [10, 20, 30]\n",
    "lst3 = lst1[::] # -----> Slicing\n",
    "print(lst3 is lst1)\n",
    "print(id(lst1))\n",
    "print(id(lst3))\n",
    "lst3[0] = 111\n",
    "print(lst1)\n",
    "print(lst3)"
   ]
  },
  {
   "cell_type": "code",
   "execution_count": 8,
   "metadata": {},
   "outputs": [
    {
     "name": "stdout",
     "output_type": "stream",
     "text": [
      "False\n"
     ]
    }
   ],
   "source": [
    "#copy\n",
    "lst4 = lst1.copy()\n",
    "print(lst4 is lst1)"
   ]
  },
  {
   "cell_type": "code",
   "execution_count": 11,
   "metadata": {},
   "outputs": [
    {
     "name": "stdout",
     "output_type": "stream",
     "text": [
      "False\n",
      "[1, 2, 3, 4, [1010, 22, 33, 44]]\n",
      "[1, 2, 3, 4, [1010, 22, 33, 44]]\n"
     ]
    }
   ],
   "source": [
    "# Nested List shallow copy not works\n",
    "lst5 = [1,2,3,4,[11,22,33,44]]\n",
    "lst6 = lst5.copy()\n",
    "print(lst5 is lst6) # ----> id is difff for both\n",
    "lst5[-1][0]= 1010\n",
    "print(lst5)\n",
    "print(lst6)"
   ]
  },
  {
   "cell_type": "code",
   "execution_count": 12,
   "metadata": {},
   "outputs": [
    {
     "name": "stdout",
     "output_type": "stream",
     "text": [
      "[1, 2, 3, 4, [1010, 22, 33, 44]]\n",
      "False\n",
      "[1, 2, 3, 4, [2022, 22, 33, 44]]\n",
      "[1, 2, 3, 4, [1010, 22, 33, 44]]\n"
     ]
    }
   ],
   "source": [
    "#deep copy  takes more memory n time. Used only in nested list\n",
    "from copy import deepcopy\n",
    "print(lst5)\n",
    "lst7 = deepcopy(lst5)\n",
    "print(lst5 is lst7)\n",
    "lst5[-1][0]= 2022\n",
    "print(lst5)\n",
    "print(lst7)"
   ]
  },
  {
   "cell_type": "markdown",
   "metadata": {},
   "source": [
    "# Tuple and it's method"
   ]
  },
  {
   "cell_type": "raw",
   "metadata": {},
   "source": [
    "It is similar to list. Diff is tuple is immutale object and list is mutable. Accesing in tuple is faster.\n",
    "Doing opr in tuple is faster than list as it is immu. All opr cannot be performed on tuple as it is immu.\n",
    "Support +ve and -ve indexing, slicing,concatenation,repitition,membership opr, contatin duplicate element.It is a collection of heterogenous elements. Paremthesisi is optional."
   ]
  },
  {
   "cell_type": "code",
   "execution_count": 16,
   "metadata": {},
   "outputs": [
    {
     "name": "stdout",
     "output_type": "stream",
     "text": [
      "(10, 20, 30, 40) <class 'tuple'>\n",
      "(10, 20, 30, 40) <class 'tuple'>\n",
      "Enter a tuple:(10,20,30,40\n",
      "('(', '1', '0', ',', '2', '0', ',', '3', '0', ',', '4', '0') <class 'tuple'>\n"
     ]
    }
   ],
   "source": [
    "tpl = (10,20,30,40)\n",
    "print(tpl, type(tpl))\n",
    "\n",
    "tpl1 = 10,20,30,40\n",
    "print(tpl1, type(tpl1))\n",
    "\n",
    "#creating a tuple comma is required.\n",
    "tpl2 = (10,)\n",
    "\n",
    "#tpl as input from user.\n",
    "\n",
    "#tpl3= eval(input('Enter a tuple:'))\n",
    "#print(tpl3, type(tpl3))\n",
    "\n",
    "\n",
    "a= tuple(input('Enter a tuple:'))\n",
    "print(a, type(a))"
   ]
  },
  {
   "cell_type": "code",
   "execution_count": 24,
   "metadata": {},
   "outputs": [
    {
     "name": "stdout",
     "output_type": "stream",
     "text": [
      "(1, 2, 3, 4, 5, 9, 566, 7, 8, 88, 77, 9, 9, 9) <class 'tuple'>\n",
      "4\n",
      "5\n"
     ]
    }
   ],
   "source": [
    "#print(dir(tuple))\n",
    "# count,no of time element occur index, first occurence of element\n",
    "\n",
    "tpl6= (1,2,3,4,5,9,566,7,8,88,77,9,9,9)\n",
    "print(tpl6, type(tpl6))\n",
    "print(tpl6.count(9)) #---> no. of tmes\n",
    "print(tpl6.index(9)) #-----> first occurenr"
   ]
  },
  {
   "cell_type": "code",
   "execution_count": 26,
   "metadata": {},
   "outputs": [
    {
     "name": "stdout",
     "output_type": "stream",
     "text": [
      "[10, 202, 30, 40] <class 'list'>\n"
     ]
    }
   ],
   "source": [
    "a= eval('[10,202,30,40]') #--> input as string\n",
    "print(a, type(a))\n"
   ]
  },
  {
   "cell_type": "code",
   "execution_count": null,
   "metadata": {},
   "outputs": [],
   "source": [
    "item -> key and value\n",
    "key and value are seperated by colon\n",
    "key, value pair is called item\n",
    "key can only be immutable type, value can be anything\n",
    "key cannot be duplivated/\n",
    "list cannot be given as  a key.\n",
    "immutable meaans cannot make any changes, duplication emans "
   ]
  },
  {
   "cell_type": "code",
   "execution_count": 31,
   "metadata": {},
   "outputs": [
    {
     "name": "stdout",
     "output_type": "stream",
     "text": [
      "{1: 100, 2: 400, 3: 333, 4: 9098} <class 'dict'>\n",
      "{1: 100, 2: 400, 3: 333, 4: 9098, (10+20j): 'python', 'a': 'Learn', None: True, (10, 20): [1, 2, 3]}\n",
      "{1: 987, 2: 400, 3: 999}\n"
     ]
    }
   ],
   "source": [
    "d = {1:100, 2:400, 3:333, 4:9098}\n",
    "print(d, type(d))\n",
    "\n",
    "d1= {1:100, 2:400, 3:333, 4:9098, 10+20j:\"python\", 'a':'Learn', None:True, (10,20):[1,2,3]}\n",
    "print(d1)\n",
    "d11= {1:100, 2:400, 3:999, 1:987}\n",
    "print(d11)"
   ]
  },
  {
   "cell_type": "code",
   "execution_count": 42,
   "metadata": {},
   "outputs": [
    {
     "name": "stdout",
     "output_type": "stream",
     "text": [
      "{1: 100, 2: 400, 3: 333, 8: 9098, None: 'All'}\n",
      "9098\n",
      "All\n",
      "100\n"
     ]
    },
    {
     "ename": "KeyError",
     "evalue": "False",
     "output_type": "error",
     "traceback": [
      "\u001b[1;31m---------------------------------------------------------------------------\u001b[0m",
      "\u001b[1;31mKeyError\u001b[0m                                  Traceback (most recent call last)",
      "\u001b[1;32m<ipython-input-42-2a0a07de8375>\u001b[0m in \u001b[0;36m<module>\u001b[1;34m\u001b[0m\n\u001b[0;32m      7\u001b[0m \u001b[0mprint\u001b[0m\u001b[1;33m(\u001b[0m\u001b[0md\u001b[0m\u001b[1;33m[\u001b[0m\u001b[1;32mNone\u001b[0m\u001b[1;33m]\u001b[0m\u001b[1;33m)\u001b[0m\u001b[1;33m\u001b[0m\u001b[1;33m\u001b[0m\u001b[0m\n\u001b[0;32m      8\u001b[0m \u001b[0mprint\u001b[0m\u001b[1;33m(\u001b[0m\u001b[0md\u001b[0m\u001b[1;33m[\u001b[0m\u001b[1;32mTrue\u001b[0m\u001b[1;33m]\u001b[0m\u001b[1;33m)\u001b[0m\u001b[1;33m\u001b[0m\u001b[1;33m\u001b[0m\u001b[0m\n\u001b[1;32m----> 9\u001b[1;33m \u001b[0mprint\u001b[0m\u001b[1;33m(\u001b[0m\u001b[0md\u001b[0m\u001b[1;33m[\u001b[0m\u001b[1;32mFalse\u001b[0m\u001b[1;33m]\u001b[0m\u001b[1;33m)\u001b[0m\u001b[1;33m\u001b[0m\u001b[1;33m\u001b[0m\u001b[0m\n\u001b[0m",
      "\u001b[1;31mKeyError\u001b[0m: False"
     ]
    }
   ],
   "source": [
    "#Dictionary is mutable\n",
    "d = {1:100, 2:400, 3:333, 8:9098, None:'All'}\n",
    "print(d)\n",
    "#print(d[4])\n",
    "print(d[8])\n",
    "\n",
    "print(d[None])\n",
    "print(d[True]) #--> print(d[True]) = print(d[1])\n",
    "#print(d[False])"
   ]
  },
  {
   "cell_type": "raw",
   "metadata": {},
   "source": [
    "#Write a Python program to count the number of strings having length more than 2 and are palindrome in a list using loop.\n",
    "#Input:- ['ab', 'abc', 'aba', 'xyz', '1991']\n",
    "#Output:- 2\n",
    "\n",
    "=====================================================\n",
    "\n",
    "#Write a Python program to find the list of words that are longer than or equal to 4 from a given string.\n",
    "#Input:- 'How much wood would a woodchuck chuck if a woodchuck could chuck wood'\n",
    "#Output:- ['much', 'wood', 'would', 'woodchuck', 'chuck', 'could']\n",
    "#Note:- Duplicate should be avoided.\n",
    "\n",
    "=====================================================\n",
    "\n",
    "#Write a Python program to create a 4X4 2D matrix with below elements using loop and list comprehension both.\n",
    "#Output:- [[0,0,0,0],[0,1,2,3],[0,2,4,6],[0,3,6,9]]"
   ]
  },
  {
   "cell_type": "code",
   "execution_count": 47,
   "metadata": {},
   "outputs": [
    {
     "name": "stdout",
     "output_type": "stream",
     "text": [
      "2\n"
     ]
    }
   ],
   "source": [
    "lst1 = ['ab', 'abc', 'aba', 'xyz', '1991']\n",
    "cnt=0\n",
    "for i in range(0,len(lst1)):\n",
    "    s=lst1[i]\n",
    "    if(len(s) > 2):\n",
    "        if(s[::-1] ==  s[::1]):\n",
    "            cnt=cnt+1\n",
    "print(cnt)"
   ]
  },
  {
   "cell_type": "code",
   "execution_count": 48,
   "metadata": {},
   "outputs": [
    {
     "name": "stdout",
     "output_type": "stream",
     "text": [
      "['much', 'wood', 'would', 'woodchuck', 'chuck', 'could']\n"
     ]
    }
   ],
   "source": [
    "my_str= 'How much wood would a woodchuck chuck if a woodchuck could chuck wood'\n",
    "outpt_lst = []\n",
    "for i in my_str.split():\n",
    "    if len(i)>= 4 and i not in outpt_lst:\n",
    "        outpt_lst.append(i)\n",
    "print(outpt_lst)"
   ]
  },
  {
   "cell_type": "code",
   "execution_count": 50,
   "metadata": {},
   "outputs": [
    {
     "name": "stdout",
     "output_type": "stream",
     "text": [
      "[[0, 0, 0, 0], [0, 1, 2, 3], [0, 2, 4, 6], [0, 3, 6, 9]]\n",
      "[0, 4, 8, 12, 16]\n"
     ]
    }
   ],
   "source": [
    "outpt_lst  =[]\n",
    "for i in range(4):\n",
    "    inner_lst = []\n",
    "    for j in range(4):\n",
    "        inner_lst.append(i*j)\n",
    "    outpt_lst.append(inner_lst)\n",
    "print(outpt_lst)\n",
    "\n",
    "#LIST COMPREHENSION-Simple way of creating list\n",
    "#Syntax-> [expr for i in seq]\n",
    "\n",
    "\n",
    "[[i*j for j in range(4)]for i in range(4)]\n",
    "\n",
    "# list of sq of all even no.\n",
    "a= [num*2 for num in range(10) if num%2==0]\n",
    "print(a)"
   ]
  },
  {
   "cell_type": "raw",
   "metadata": {},
   "source": [
    "Dictionary Methods"
   ]
  },
  {
   "cell_type": "code",
   "execution_count": 52,
   "metadata": {},
   "outputs": [
    {
     "name": "stdout",
     "output_type": "stream",
     "text": [
      "['__class__', '__contains__', '__delattr__', '__delitem__', '__dir__', '__doc__', '__eq__', '__format__', '__ge__', '__getattribute__', '__getitem__', '__gt__', '__hash__', '__init__', '__init_subclass__', '__iter__', '__le__', '__len__', '__lt__', '__ne__', '__new__', '__reduce__', '__reduce_ex__', '__repr__', '__setattr__', '__setitem__', '__sizeof__', '__str__', '__subclasshook__', 'clear', 'copy', 'fromkeys', 'get', 'items', 'keys', 'pop', 'popitem', 'setdefault', 'update', 'values']\n"
     ]
    }
   ],
   "source": [
    "print(dir(dict))"
   ]
  },
  {
   "cell_type": "code",
   "execution_count": 53,
   "metadata": {},
   "outputs": [
    {
     "name": "stdout",
     "output_type": "stream",
     "text": [
      "{1: 10, 2: 300, 3: 300, 4: 800} <class 'dict'>\n"
     ]
    }
   ],
   "source": [
    "d = {1:10, 2:300, 3:300, 4:800}\n",
    "print(d, type(d))"
   ]
  },
  {
   "cell_type": "code",
   "execution_count": 59,
   "metadata": {},
   "outputs": [
    {
     "name": "stdout",
     "output_type": "stream",
     "text": [
      "Enter a dictionary:{1:100000, 2:2000}\n",
      "{1: 100000, 2: 2000} <class 'dict'>\n"
     ]
    }
   ],
   "source": [
    "d1= eval(input('Enter a dictionary:'))\n",
    "print(d1, type(d1))"
   ]
  },
  {
   "cell_type": "code",
   "execution_count": 61,
   "metadata": {},
   "outputs": [
    {
     "name": "stdout",
     "output_type": "stream",
     "text": [
      "{0: 1, 1: 23, 2: 34, 3: 45, 4: 5}\n",
      "[(0, 10), (1, 20), (2, 39), (3, 40)]\n"
     ]
    }
   ],
   "source": [
    "lst = [1,23,34,45,5]\n",
    "print(dict(enumerate(lst)))\n",
    "\n",
    "a = list(enumerate([10,20,39,40]))#--> index and value \n",
    "print(a)"
   ]
  },
  {
   "cell_type": "code",
   "execution_count": 63,
   "metadata": {},
   "outputs": [
    {
     "name": "stdout",
     "output_type": "stream",
     "text": [
      "{} <class 'dict'>\n"
     ]
    }
   ],
   "source": [
    "d = {}\n",
    "print(d, type(d))"
   ]
  },
  {
   "cell_type": "markdown",
   "metadata": {},
   "source": [
    "# Dictionary methods\n",
    "'clear', 'copy', 'fromkeys', 'get', 'items', 'keys', 'pop', 'popitem', 'setdefault', 'update', 'values'"
   ]
  },
  {
   "cell_type": "code",
   "execution_count": 82,
   "metadata": {},
   "outputs": [
    {
     "ename": "IndentationError",
     "evalue": "unexpected indent (<ipython-input-82-f5450739b531>, line 6)",
     "output_type": "error",
     "traceback": [
      "\u001b[1;36m  File \u001b[1;32m\"<ipython-input-82-f5450739b531>\"\u001b[1;36m, line \u001b[1;32m6\u001b[0m\n\u001b[1;33m    for i in d1:\u001b[0m\n\u001b[1;37m    ^\u001b[0m\n\u001b[1;31mIndentationError\u001b[0m\u001b[1;31m:\u001b[0m unexpected indent\n"
     ]
    }
   ],
   "source": [
    "#'clear'\n",
    "#'copy'\n",
    "#'fromkeys'  -> creates a dic out of it\n",
    "\n",
    "b={}\n",
    "b = b.fromkeys([1,2,3])\n",
    "print(b)\n",
    "\n",
    "#'items' 'keys' 'value'\n",
    " for i in d1:\n",
    "        print(i)\n",
    "\n",
    "# 'get', 'setdefault'\n",
    "\n",
    "d1= {1:100, 2:400, 3:333, 4:9098, 10+20j:\"python\", 'a':'Learn', None:True, (10,20):[1,2,3]}\n",
    "print(d1.get('a'))\n",
    "print(d1.get('b'))\n",
    "print(d1.get('c', 'This key is not present'))\n",
    "print(d1)\n",
    "print()  #--> prints blank space\n",
    "print(d1.setdefault('a', 'This is not present'))\n",
    "print()  #--> prints blank space\n",
    "print(d1.setdefault('b', 'This is not present'))\n",
    "print()  #--> prints blank space\n",
    "print(d1)\n",
    "\n",
    "\n",
    "#update. Similar to extend method in list\n",
    "\n",
    "a= {1:100, 2:200, 3:300, 4:400}\n",
    "b= {'a': 'Python','b':'Class','c':'LearnBay'}\n",
    "a.update(b)\n",
    "print(a)\n",
    "\n",
    "#'pop'  'popitem'"
   ]
  },
  {
   "cell_type": "code",
   "execution_count": 84,
   "metadata": {},
   "outputs": [
    {
     "name": "stdout",
     "output_type": "stream",
     "text": [
      "{1: None, 2: None, 3: None}\n",
      "{1: 'None', 2: 'None', 3: 'None'}\n"
     ]
    }
   ],
   "source": [
    "b={}\n",
    "b = b.fromkeys([1,2,3])\n",
    "print(b)\n",
    "\n",
    "c={}\n",
    "c = c.fromkeys([1,2,3],'None')\n",
    "print(c)"
   ]
  },
  {
   "cell_type": "code",
   "execution_count": null,
   "metadata": {},
   "outputs": [],
   "source": []
  }
 ],
 "metadata": {
  "kernelspec": {
   "display_name": "Python 3",
   "language": "python",
   "name": "python3"
  },
  "language_info": {
   "codemirror_mode": {
    "name": "ipython",
    "version": 3
   },
   "file_extension": ".py",
   "mimetype": "text/x-python",
   "name": "python",
   "nbconvert_exporter": "python",
   "pygments_lexer": "ipython3",
   "version": "3.7.6"
  }
 },
 "nbformat": 4,
 "nbformat_minor": 4
}
