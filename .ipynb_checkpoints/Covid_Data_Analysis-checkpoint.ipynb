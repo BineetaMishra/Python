{
 "cells": [
  {
   "cell_type": "code",
   "execution_count": null,
   "metadata": {},
   "outputs": [],
   "source": [
    "import numpy as np\n",
    "import pandas as pd\n",
    "import matplotlib.pyplot as plt\n",
    "import seaborn as sns\n",
    "import folium\n",
    "import math\n",
    "import random\n",
    "from datetime import timedata\n",
    "import plotly as py\n",
    "py.offline.init_notebook_mode(connected=True)\n",
    "cnf= '#00FFFF'\n",
    "dth= '#FF0000'\n",
    "rec= '#00FFFF'\n",
    "act= '#00FFFF'"
   ]
  },
  {
   "cell_type": "code",
   "execution_count": null,
   "metadata": {},
   "outputs": [],
   "source": [
    "df= pd.read\n",
    "country_daywise=\n",
    "country_wise="
   ]
  },
  {
   "cell_type": "code",
   "execution_count": null,
   "metadata": {},
   "outputs": [],
   "source": []
  },
  {
   "cell_type": "code",
   "execution_count": null,
   "metadata": {},
   "outputs": [],
   "source": [
    "df['province/state']= df[].fillna('')\n",
    "df.head"
   ]
  },
  {
   "cell_type": "code",
   "execution_count": null,
   "metadata": {},
   "outputs": [],
   "source": [
    "confirmed = df.groupby(['Date']).sum()['Confirmed'].reset_index()"
   ]
  },
  {
   "cell_type": "code",
   "execution_count": null,
   "metadata": {},
   "outputs": [],
   "source": [
    "confirmed"
   ]
  },
  {
   "cell_type": "code",
   "execution_count": null,
   "metadata": {},
   "outputs": [],
   "source": [
    "recovered = df.groupby(['Date']).sum()['Recovered'].reset_index()\n",
    "deaths = df.groupby(['Date']).sum()['Deaths'].reset_index()"
   ]
  },
  {
   "cell_type": "code",
   "execution_count": null,
   "metadata": {},
   "outputs": [],
   "source": [
    "deaths"
   ]
  },
  {
   "cell_type": "code",
   "execution_count": null,
   "metadata": {},
   "outputs": [],
   "source": [
    "fig=go.Figure()\n",
    "fig.add_trace(go.Scatter(x= confirmed['Date'],y= confirmed['Confirmed'], mode= 'lines+markers', name='Confirmed',\n",
    "          line={'color':'Red', 'width=5'}))\n"
   ]
  },
  {
   "cell_type": "markdown",
   "metadata": {},
   "source": [
    "# Density Animation on World Map"
   ]
  },
  {
   "cell_type": "code",
   "execution_count": null,
   "metadata": {},
   "outputs": [],
   "source": [
    "#density_mapbox"
   ]
  },
  {
   "cell_type": "code",
   "execution_count": null,
   "metadata": {},
   "outputs": [],
   "source": [
    "df.info()"
   ]
  },
  {
   "cell_type": "code",
   "execution_count": null,
   "metadata": {},
   "outputs": [],
   "source": [
    "fig = px.density_mapox(df, lat='Lat', lon='Long',\n",
    "                      hover_name='',\n",
    "                      hover_data= ['Confirmed', 'Recovered', 'Deaths'],\n",
    "                      animation_frame= 'Date',\n",
    "                       "
   ]
  },
  {
   "cell_type": "code",
   "execution_count": null,
   "metadata": {},
   "outputs": [],
   "source": []
  },
  {
   "cell_type": "code",
   "execution_count": null,
   "metadata": {},
   "outputs": [],
   "source": [
    "df."
   ]
  },
  {
   "cell_type": "markdown",
   "metadata": {},
   "source": [
    "# TREE MAP PLOT"
   ]
  },
  {
   "cell_type": "code",
   "execution_count": null,
   "metadata": {},
   "outputs": [],
   "source": [
    "temp= df.groupby(['Date'])['Confirmed', 'Deaths', 'Active', 'Recovered'].sum().reset_index()"
   ]
  },
  {
   "cell_type": "code",
   "execution_count": null,
   "metadata": {},
   "outputs": [],
   "source": [
    "temp"
   ]
  },
  {
   "cell_type": "code",
   "execution_count": null,
   "metadata": {},
   "outputs": [],
   "source": [
    "temp1= df.groupby(['Date'])['Confirmed', 'Deaths', 'Active', 'Recovered'].sum()"
   ]
  },
  {
   "cell_type": "code",
   "execution_count": null,
   "metadata": {},
   "outputs": [],
   "source": [
    "temp1"
   ]
  },
  {
   "cell_type": "code",
   "execution_count": null,
   "metadata": {},
   "outputs": [],
   "source": [
    "temp2= temp[temp['Date']== max(temp['Date'])].reset_index(drop=True)"
   ]
  },
  {
   "cell_type": "code",
   "execution_count": null,
   "metadata": {},
   "outputs": [],
   "source": [
    "# Melting the DataFrame based on Date column\n",
    "#Data of that particular date will be shown in column\n",
    "tm = temp.melt(id_vars='Date', value_vars=['Confirmed','Deaths','Active','Recovered'])"
   ]
  },
  {
   "cell_type": "code",
   "execution_count": null,
   "metadata": {},
   "outputs": [],
   "source": [
    "#Tree map to plot\n",
    "\n",
    "fig= px.treemap(tm,\n",
    "               path=['variable'],\n",
    "               values='value',\n",
    "               height=225,\n",
    "               width=800,\n",
    "               color_discrete_sequence=[cnf, act, rec, dth])\n",
    "fig.data[0].textinfo='label+text+value'\n",
    "fig.show()"
   ]
  },
  {
   "cell_type": "code",
   "execution_count": null,
   "metadata": {},
   "outputs": [],
   "source": [
    "#Area Plot\n",
    "temp= df.groupby(['Date'])['Confirmed', 'Deaths', 'Active', 'Recovered'].sum().reset_index()\n",
    "tm = temp.melt(id_vars='Date', value_vars=['Confirmed','Deaths','Active','Recovered'], var_name='Case', value_name='Count')\n",
    "\n",
    "fig= px.areaplot(tm,\n",
    "               path=['variable'],\n",
    "               values='value',\n",
    "               height=225,\n",
    "               width=800,\n",
    "               color_discrete_sequence=[cnf, act, rec, dth])\n",
    "fig.data[0].textinfo='label+text+value'\n",
    "fig.show()"
   ]
  },
  {
   "cell_type": "markdown",
   "metadata": {},
   "source": [
    "# choropleth Math Plotting\n"
   ]
  },
  {
   "cell_type": "code",
   "execution_count": null,
   "metadata": {},
   "outputs": [],
   "source": [
    "fig= px.choropleth(country_daywise, locations='Country', locationmode='country names')\n",
    "fig.update(layout_coloraxis_showscale=True)\n",
    "fig.show()"
   ]
  },
  {
   "cell_type": "code",
   "execution_count": null,
   "metadata": {},
   "outputs": [],
   "source": [
    "#Scatter plot"
   ]
  },
  {
   "cell_type": "code",
   "execution_count": null,
   "metadata": {},
   "outputs": [],
   "source": []
  }
 ],
 "metadata": {
  "kernelspec": {
   "display_name": "Python 3",
   "language": "python",
   "name": "python3"
  },
  "language_info": {
   "codemirror_mode": {
    "name": "ipython",
    "version": 3
   },
   "file_extension": ".py",
   "mimetype": "text/x-python",
   "name": "python",
   "nbconvert_exporter": "python",
   "pygments_lexer": "ipython3",
   "version": "3.7.6"
  }
 },
 "nbformat": 4,
 "nbformat_minor": 4
}
