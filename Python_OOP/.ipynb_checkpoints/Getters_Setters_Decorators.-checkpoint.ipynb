{
 "cells": [
  {
   "cell_type": "code",
   "execution_count": 9,
   "metadata": {},
   "outputs": [
    {
     "name": "stdout",
     "output_type": "stream",
     "text": [
      "Jim\n",
      "Smith\n",
      "John.Smith@company.com\n",
      "Jim Smith\n"
     ]
    }
   ],
   "source": [
    "class Employee:\n",
    "    \n",
    "    def __init__(self,first,last):\n",
    "        self.first= first\n",
    "        self.last= last\n",
    "        self.email= first + '.' + last + '@company.com'\n",
    "        \n",
    "           \n",
    "    def fullname(self):\n",
    "        return '{} {}'.format(self.first,self.last)\n",
    "\n",
    "emp_1 = Employee('John','Smith')\n",
    "emp_1.first = 'Jim'\n",
    "\n",
    "print(emp_1.first)\n",
    "print(emp_1.last)\n",
    "print(emp_1.email)\n",
    "print(emp_1.fullname())"
   ]
  },
  {
   "cell_type": "code",
   "execution_count": 10,
   "metadata": {},
   "outputs": [
    {
     "name": "stdout",
     "output_type": "stream",
     "text": [
      "Jim\n",
      "Smith\n",
      "<bound method Employee.email of <__main__.Employee object at 0x000001ED3BC1EE48>>\n",
      "Jim Smith\n",
      "Jim Smith@company.com\n"
     ]
    }
   ],
   "source": [
    "class Employee:\n",
    "    \n",
    "    def __init__(self,first,last):\n",
    "        self.first= first\n",
    "        self.last= last\n",
    "        #self.email= first + '.' + last + '@company.com'\n",
    "        \n",
    "    def email(self):\n",
    "        return '{} {}@company.com'.format(self.first,self.last)\n",
    "        \n",
    "    def fullname(self):\n",
    "        return '{} {}'.format(self.first,self.last)\n",
    "\n",
    "emp_1 = Employee('John','Smith')\n",
    "emp_1.first = 'Jim'\n",
    "\n",
    "print(emp_1.first)\n",
    "print(emp_1.last)\n",
    "print(emp_1.email)\n",
    "print(emp_1.fullname())\n",
    "print(emp_1.email())"
   ]
  },
  {
   "cell_type": "markdown",
   "metadata": {},
   "source": [
    "### Property Decorator"
   ]
  },
  {
   "cell_type": "code",
   "execution_count": 16,
   "metadata": {},
   "outputs": [
    {
     "name": "stdout",
     "output_type": "stream",
     "text": [
      "Jim\n",
      "Smith\n",
      "Jim Smith\n",
      "Jim Smith@company.com\n"
     ]
    }
   ],
   "source": [
    "class Employee:\n",
    "    \n",
    "    def __init__(self,first,last):\n",
    "        self.first= first\n",
    "        self.last= last\n",
    "        #self.email= first + '.' + last + '@company.com'\n",
    "    \n",
    "    @property        \n",
    "    def email(self):\n",
    "        return '{} {}@company.com'.format(self.first,self.last)\n",
    "    \n",
    "    @property        \n",
    "    def fullname(self):\n",
    "        return '{} {}'.format(self.first,self.last)\n",
    "\n",
    "emp_1 = Employee('John','Smith')\n",
    "emp_1.first = 'Jim'\n",
    "\n",
    "print(emp_1.first)\n",
    "print(emp_1.last)\n",
    "print(emp_1.fullname)\n",
    "print(emp_1.email)"
   ]
  },
  {
   "cell_type": "code",
   "execution_count": 17,
   "metadata": {},
   "outputs": [
    {
     "name": "stdout",
     "output_type": "stream",
     "text": [
      "Tanuu\n",
      "Smith\n",
      "Tanuu Smith\n",
      "Tanuu Smith@company.com\n"
     ]
    }
   ],
   "source": [
    "class Employee:\n",
    "    \n",
    "    def __init__(self,first,last):\n",
    "        self.first= first\n",
    "        self.last= last\n",
    "        #self.email= first + '.' + last + '@company.com'\n",
    "    \n",
    "    @property        \n",
    "    def email(self):\n",
    "        return '{} {}@company.com'.format(self.first,self.last)\n",
    "    \n",
    "    @property        \n",
    "    def fullname(self):\n",
    "        return '{} {}'.format(self.first,self.last)\n",
    "\n",
    "emp_1 = Employee('John','Smith')\n",
    "\n",
    "emp_1.first = 'Tanuu'\n",
    "\n",
    "print(emp_1.first)\n",
    "print(emp_1.last)\n",
    "print(emp_1.fullname)\n",
    "print(emp_1.email)"
   ]
  },
  {
   "cell_type": "markdown",
   "metadata": {},
   "source": [
    "### Setters"
   ]
  },
  {
   "cell_type": "code",
   "execution_count": 18,
   "metadata": {},
   "outputs": [
    {
     "ename": "AttributeError",
     "evalue": "can't set attribute",
     "output_type": "error",
     "traceback": [
      "\u001b[1;31m---------------------------------------------------------------------------\u001b[0m",
      "\u001b[1;31mAttributeError\u001b[0m                            Traceback (most recent call last)",
      "\u001b[1;32m<ipython-input-18-6ccdc428e499>\u001b[0m in \u001b[0;36m<module>\u001b[1;34m\u001b[0m\n\u001b[0;32m     20\u001b[0m \u001b[0memp_1\u001b[0m\u001b[1;33m.\u001b[0m\u001b[0mfirst\u001b[0m \u001b[1;33m=\u001b[0m \u001b[1;34m'Tanuu'\u001b[0m\u001b[1;33m\u001b[0m\u001b[1;33m\u001b[0m\u001b[0m\n\u001b[0;32m     21\u001b[0m \u001b[1;33m\u001b[0m\u001b[0m\n\u001b[1;32m---> 22\u001b[1;33m \u001b[0memp_1\u001b[0m\u001b[1;33m.\u001b[0m\u001b[0mfullname\u001b[0m \u001b[1;33m=\u001b[0m \u001b[1;34m'Binita Misra'\u001b[0m\u001b[1;33m\u001b[0m\u001b[1;33m\u001b[0m\u001b[0m\n\u001b[0m\u001b[0;32m     23\u001b[0m \u001b[1;33m\u001b[0m\u001b[0m\n\u001b[0;32m     24\u001b[0m \u001b[0mprint\u001b[0m\u001b[1;33m(\u001b[0m\u001b[0memp_1\u001b[0m\u001b[1;33m.\u001b[0m\u001b[0mfirst\u001b[0m\u001b[1;33m)\u001b[0m\u001b[1;33m\u001b[0m\u001b[1;33m\u001b[0m\u001b[0m\n",
      "\u001b[1;31mAttributeError\u001b[0m: can't set attribute"
     ]
    }
   ],
   "source": [
    "#By setting the full name change the first name, last name, email then we use settattr\n",
    "\n",
    "# GETTING THE ERROR FOR THE FULL NAME \"AttributeError: can't set attribute\"\n",
    "\n",
    "\n",
    "class Employee:\n",
    "    \n",
    "    def __init__(self,first,last):\n",
    "        self.first= first\n",
    "        self.last= last\n",
    "        #self.email= first + '.' + last + '@company.com'\n",
    "    \n",
    "    @property        \n",
    "    def email(self):\n",
    "        return '{} {}@company.com'.format(self.first,self.last)\n",
    "    \n",
    "    @property        \n",
    "    def fullname(self):\n",
    "        return '{} {}'.format(self.first,self.last)\n",
    "\n",
    "emp_1 = Employee('John','Smith')\n",
    "\n",
    "emp_1.first = 'Tanuu'\n",
    "\n",
    "emp_1.fullname = 'Binita Misra'\n",
    "\n",
    "print(emp_1.first)\n",
    "print(emp_1.last)\n",
    "print(emp_1.fullname)\n",
    "print(emp_1.email)"
   ]
  },
  {
   "cell_type": "code",
   "execution_count": 19,
   "metadata": {},
   "outputs": [
    {
     "name": "stdout",
     "output_type": "stream",
     "text": [
      "Binita\n",
      "Misra\n",
      "Binita Misra\n",
      "Binita Misra@company.com\n"
     ]
    }
   ],
   "source": [
    "#By setting the full name change the first name, last name, email then we use SETTER\n",
    "\n",
    "class Employee:\n",
    "    \n",
    "    def __init__(self,first,last):\n",
    "        self.first= first\n",
    "        self.last= last\n",
    "        #self.email= first + '.' + last + '@company.com'\n",
    "    \n",
    "    @property        \n",
    "    def email(self):\n",
    "        return '{} {}@company.com'.format(self.first,self.last)\n",
    "    \n",
    "    @property        \n",
    "    def fullname(self):\n",
    "        return '{} {}'.format(self.first,self.last)\n",
    "    \n",
    "    @fullname.setter \n",
    "    def fullname(self,name):\n",
    "        first,last = name.split(' ')\n",
    "        self.first= first\n",
    "        self.last = last\n",
    "\n",
    "emp_1 = Employee('John','Smith')\n",
    "\n",
    "emp_1.first = 'Tanuu'\n",
    "\n",
    "emp_1.fullname = 'Binita Misra'\n",
    "\n",
    "print(emp_1.first)\n",
    "print(emp_1.last)\n",
    "print(emp_1.fullname)\n",
    "print(emp_1.email)"
   ]
  },
  {
   "cell_type": "markdown",
   "metadata": {},
   "source": [
    "### DELETER"
   ]
  },
  {
   "cell_type": "code",
   "execution_count": 23,
   "metadata": {},
   "outputs": [
    {
     "name": "stdout",
     "output_type": "stream",
     "text": [
      "Tanuu\n",
      "Smith\n",
      "Tanuu Smith\n",
      "Tanuu Smith@company.com\n",
      "Delete name\n"
     ]
    }
   ],
   "source": [
    "class Employee:\n",
    "    \n",
    "    def __init__(self,first,last):\n",
    "        self.first= first\n",
    "        self.last= last\n",
    "        #self.email= first + '.' + last + '@company.com'\n",
    "    \n",
    "    @property        \n",
    "    def email(self):\n",
    "        return '{} {}@company.com'.format(self.first,self.last)\n",
    "    \n",
    "    @property        \n",
    "    def fullname(self):\n",
    "        return '{} {}'.format(self.first,self.last)\n",
    "    \n",
    "    @fullname.deleter\n",
    "    def fullname(self):\n",
    "        print('Delete name')\n",
    "        self.first = None\n",
    "        self.last= None\n",
    "        \n",
    "emp_1 = Employee('John','Smith')\n",
    "\n",
    "emp_1.first = 'Tanuu'\n",
    "\n",
    "print(emp_1.first)\n",
    "print(emp_1.last)\n",
    "print(emp_1.fullname)\n",
    "print(emp_1.email)\n",
    "\n",
    "del emp_1.fullname"
   ]
  },
  {
   "cell_type": "code",
   "execution_count": null,
   "metadata": {},
   "outputs": [],
   "source": []
  },
  {
   "cell_type": "code",
   "execution_count": null,
   "metadata": {},
   "outputs": [],
   "source": []
  },
  {
   "cell_type": "code",
   "execution_count": null,
   "metadata": {},
   "outputs": [],
   "source": []
  },
  {
   "cell_type": "code",
   "execution_count": null,
   "metadata": {},
   "outputs": [],
   "source": []
  }
 ],
 "metadata": {
  "kernelspec": {
   "display_name": "Python 3",
   "language": "python",
   "name": "python3"
  },
  "language_info": {
   "codemirror_mode": {
    "name": "ipython",
    "version": 3
   },
   "file_extension": ".py",
   "mimetype": "text/x-python",
   "name": "python",
   "nbconvert_exporter": "python",
   "pygments_lexer": "ipython3",
   "version": "3.7.6"
  }
 },
 "nbformat": 4,
 "nbformat_minor": 4
}
