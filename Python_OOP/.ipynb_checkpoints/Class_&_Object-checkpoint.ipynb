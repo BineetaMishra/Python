{
 "cells": [
  {
   "cell_type": "code",
   "execution_count": 1,
   "metadata": {},
   "outputs": [
    {
     "name": "stdout",
     "output_type": "stream",
     "text": [
      "<__main__.Employee object at 0x000002AC4B3D39C8> <__main__.Employee object at 0x000002AC4B3D3908>\n"
     ]
    }
   ],
   "source": [
    "class Employee:\n",
    "    pass\n",
    "\n",
    "emp_1 = Employee() # instances of the employee class\n",
    "emp_2 = Employee() # instances of the employee class\n",
    "\n",
    "print(emp_1,emp_2)"
   ]
  },
  {
   "cell_type": "code",
   "execution_count": 3,
   "metadata": {},
   "outputs": [
    {
     "name": "stdout",
     "output_type": "stream",
     "text": [
      "<__main__.Employee object at 0x000002AC4B389048> <__main__.Employee object at 0x000002AC4B3A6D88>\n",
      "bineeta.mishra@company.com\n",
      "tanu.mishra@company.com\n"
     ]
    }
   ],
   "source": [
    "class Employee:\n",
    "    pass\n",
    "\n",
    "emp_1 = Employee() # instances of the employee class\n",
    "emp_2 = Employee() # instances of the employee class\n",
    "\n",
    "print(emp_1,emp_2)\n",
    "\n",
    "emp_1.first=\"Bineeta\"\n",
    "emp_1.last=\"Mishra\"\n",
    "emp_1.email= \"bineeta.mishra@company.com\"\n",
    "emp_1.pay= 700000\n",
    "\n",
    "emp_2.first=\"Tanu\"\n",
    "emp_2.last=\"Mishra\"\n",
    "emp_2.email= \"tanu.mishra@company.com\"\n",
    "emp_2.pay= 400000\n",
    "\n",
    "\n",
    "print(emp_1.email)\n",
    "print(emp_2.email)"
   ]
  },
  {
   "cell_type": "code",
   "execution_count": 6,
   "metadata": {},
   "outputs": [
    {
     "name": "stdout",
     "output_type": "stream",
     "text": [
      "Bineeta.Mishra@company.com\n",
      "9000000\n"
     ]
    }
   ],
   "source": [
    "#using __init__\n",
    "\n",
    "class Employee:\n",
    "    \n",
    "    def __init__(self,first,last,pay):\n",
    "        self.firstName= first\n",
    "        self.last=last\n",
    "        self.pay= pay\n",
    "        self.email= first + '.' + last+ '@company.com'\n",
    "\n",
    "        \n",
    "emp_1 = Employee('Bineeta', 'Mishra', 7000000)\n",
    "emp_2 = Employee('Tanu', 'Mishra', 9000000)\n",
    "\n",
    "print(emp_1.email)\n",
    "print(emp_2.pay)"
   ]
  },
  {
   "cell_type": "code",
   "execution_count": 11,
   "metadata": {},
   "outputs": [
    {
     "name": "stdout",
     "output_type": "stream",
     "text": [
      "Bineeta.Mishra@company.com\n",
      "9000000\n",
      "Tanu Mishra\n",
      "Bineeta Mishra\n"
     ]
    }
   ],
   "source": [
    "# method to class\n",
    "\n",
    "class Employee:\n",
    "    \n",
    "    def __init__(self,first,last,pay):\n",
    "        self.firstName= first\n",
    "        self.last=last\n",
    "        self.pay= pay\n",
    "        self.email= first + '.' + last+ '@company.com'\n",
    "    \n",
    " #<--------   #Method to the class----->\n",
    "    \n",
    "    def fullname(self):\n",
    "        return '{} {}'.format(self.firstName,self.last)\n",
    "\n",
    "        \n",
    "emp_1 = Employee('Bineeta', 'Mishra', 7000000)\n",
    "emp_2 = Employee('Tanu', 'Mishra', 9000000)\n",
    "\n",
    "print(emp_1.email)\n",
    "print(emp_2.pay)\n",
    "print(emp_2.fullname()) #---> when on instance we direct call the method\n",
    "\n",
    "print(Employee.fullname(emp_1))#---> when we put class name then pass the instance as argument"
   ]
  },
  {
   "cell_type": "code",
   "execution_count": null,
   "metadata": {},
   "outputs": [],
   "source": []
  },
  {
   "cell_type": "code",
   "execution_count": null,
   "metadata": {},
   "outputs": [],
   "source": []
  }
 ],
 "metadata": {
  "kernelspec": {
   "display_name": "Python 3",
   "language": "python",
   "name": "python3"
  },
  "language_info": {
   "codemirror_mode": {
    "name": "ipython",
    "version": 3
   },
   "file_extension": ".py",
   "mimetype": "text/x-python",
   "name": "python",
   "nbconvert_exporter": "python",
   "pygments_lexer": "ipython3",
   "version": "3.7.6"
  }
 },
 "nbformat": 4,
 "nbformat_minor": 4
}
