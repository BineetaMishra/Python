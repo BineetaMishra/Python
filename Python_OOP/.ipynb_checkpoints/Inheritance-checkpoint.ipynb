{
 "cells": [
  {
   "cell_type": "code",
   "execution_count": 3,
   "metadata": {},
   "outputs": [
    {
     "name": "stdout",
     "output_type": "stream",
     "text": [
      "Bineeta.Mishra@company.com\n",
      "Tanu.Mishra@company.com\n"
     ]
    }
   ],
   "source": [
    "class Employee:\n",
    "    \n",
    "    raise_amt = 1.04\n",
    "    \n",
    "    def __init__(self,first,last,pay):\n",
    "        self.firstName= first\n",
    "        self.last=last\n",
    "        self.pay= pay\n",
    "        self.email= first + '.' + last+ '@company.com'\n",
    "    \n",
    " #<--------   #Method to the class----->\n",
    "    \n",
    "    def fullname(self):\n",
    "        return '{} {}'.format(self.firstName,self.last)\n",
    "    \n",
    "    def apply_raise(self):\n",
    "        self.pay= int(self.pay*self.raise_amt)\n",
    "        \n",
    "class Developer(Employee):\n",
    "    pass\n",
    "\n",
    "        \n",
    "dev_1 = Employee('Bineeta', 'Mishra', 7000000)\n",
    "dev_2 = Employee('Tanu', 'Mishra', 9000000)\n",
    "\n",
    "print(dev_1.email)\n",
    "print(dev_2.email)"
   ]
  },
  {
   "cell_type": "code",
   "execution_count": 4,
   "metadata": {},
   "outputs": [
    {
     "name": "stdout",
     "output_type": "stream",
     "text": [
      "Help on class Developer in module __main__:\n",
      "\n",
      "class Developer(Employee)\n",
      " |  Developer(first, last, pay)\n",
      " |  \n",
      " |  Method resolution order:\n",
      " |      Developer\n",
      " |      Employee\n",
      " |      builtins.object\n",
      " |  \n",
      " |  Methods inherited from Employee:\n",
      " |  \n",
      " |  __init__(self, first, last, pay)\n",
      " |      Initialize self.  See help(type(self)) for accurate signature.\n",
      " |  \n",
      " |  apply_raise(self)\n",
      " |  \n",
      " |  fullname(self)\n",
      " |  \n",
      " |  ----------------------------------------------------------------------\n",
      " |  Data descriptors inherited from Employee:\n",
      " |  \n",
      " |  __dict__\n",
      " |      dictionary for instance variables (if defined)\n",
      " |  \n",
      " |  __weakref__\n",
      " |      list of weak references to the object (if defined)\n",
      " |  \n",
      " |  ----------------------------------------------------------------------\n",
      " |  Data and other attributes inherited from Employee:\n",
      " |  \n",
      " |  raise_amt = 1.04\n",
      "\n",
      "None\n"
     ]
    }
   ],
   "source": [
    "class Employee:\n",
    "    \n",
    "    raise_amt = 1.04\n",
    "    \n",
    "    def __init__(self,first,last,pay):\n",
    "        self.firstName= first\n",
    "        self.last=last\n",
    "        self.pay= pay\n",
    "        self.email= first + '.' + last+ '@company.com'\n",
    "    \n",
    " #<--------   #Method to the class----->\n",
    "    \n",
    "    def fullname(self):\n",
    "        return '{} {}'.format(self.firstName,self.last)\n",
    "    \n",
    "    def apply_raise(self):\n",
    "        self.pay= int(self.pay*self.raise_amt)\n",
    "        \n",
    "class Developer(Employee):\n",
    "    pass\n",
    "\n",
    "        \n",
    "dev_1 = Employee('Bineeta', 'Mishra', 7000000)\n",
    "dev_2 = Employee('Tanu', 'Mishra', 9000000)\n",
    "\n",
    "print(help(Developer))\n",
    "\n",
    "#print(dev_1.email)\n",
    "#print(dev_2.email)"
   ]
  },
  {
   "cell_type": "code",
   "execution_count": 5,
   "metadata": {},
   "outputs": [
    {
     "name": "stdout",
     "output_type": "stream",
     "text": [
      "7000000\n",
      "7280000\n"
     ]
    }
   ],
   "source": [
    "class Employee:\n",
    "    \n",
    "    raise_amt = 1.04\n",
    "    \n",
    "    def __init__(self,first,last,pay):\n",
    "        self.firstName= first\n",
    "        self.last=last\n",
    "        self.pay= pay\n",
    "        self.email= first + '.' + last+ '@company.com'\n",
    "    \n",
    " #<--------   #Method to the class----->\n",
    "    \n",
    "    def fullname(self):\n",
    "        return '{} {}'.format(self.firstName,self.last)\n",
    "    \n",
    "    def apply_raise(self):\n",
    "        self.pay= int(self.pay*self.raise_amt)\n",
    "        \n",
    "class Developer(Employee):\n",
    "    pass\n",
    "\n",
    "        \n",
    "dev_1 = Employee('Bineeta', 'Mishra', 7000000)\n",
    "dev_2 = Employee('Tanu', 'Mishra', 9000000)\n",
    "\n",
    "\n",
    "print(dev_1.pay)\n",
    "dev_1.apply_raise()\n",
    "print(dev_1.pay) # raise is applied!"
   ]
  },
  {
   "cell_type": "code",
   "execution_count": 6,
   "metadata": {},
   "outputs": [
    {
     "name": "stdout",
     "output_type": "stream",
     "text": [
      "7000000\n",
      "7280000\n"
     ]
    }
   ],
   "source": [
    "class Employee:\n",
    "    \n",
    "    raise_amt = 1.04\n",
    "    \n",
    "    def __init__(self,first,last,pay):\n",
    "        self.firstName= first\n",
    "        self.last=last\n",
    "        self.pay= pay\n",
    "        self.email= first + '.' + last+ '@company.com'\n",
    "    \n",
    " #<--------   #Method to the class----->\n",
    "    \n",
    "    def fullname(self):\n",
    "        return '{} {}'.format(self.firstName,self.last)\n",
    "    \n",
    "    def apply_raise(self):\n",
    "        self.pay= int(self.pay*self.raise_amt)\n",
    "        \n",
    "class Developer(Employee):\n",
    "    raise_amt=1.10\n",
    "\n",
    "        \n",
    "dev_1 = Employee('Bineeta', 'Mishra', 7000000)\n",
    "dev_2 = Employee('Tanu', 'Mishra', 9000000)\n",
    "\n",
    "\n",
    "print(dev_1.pay)\n",
    "dev_1.apply_raise()\n",
    "print(dev_1.pay) # raise is applied!"
   ]
  },
  {
   "cell_type": "code",
   "execution_count": 7,
   "metadata": {},
   "outputs": [
    {
     "name": "stdout",
     "output_type": "stream",
     "text": [
      "7000000\n",
      "7700000\n"
     ]
    }
   ],
   "source": [
    "class Employee:\n",
    "    \n",
    "    raise_amt = 1.04\n",
    "    \n",
    "    def __init__(self,first,last,pay):\n",
    "        self.firstName= first\n",
    "        self.last=last\n",
    "        self.pay= pay\n",
    "        self.email= first + '.' + last+ '@company.com'\n",
    "    \n",
    " #<--------   #Method to the class----->\n",
    "    \n",
    "    def fullname(self):\n",
    "        return '{} {}'.format(self.firstName,self.last)\n",
    "    \n",
    "    def apply_raise(self):\n",
    "        self.pay= int(self.pay*self.raise_amt)\n",
    "        \n",
    "class Developer(Employee):\n",
    "    raise_amt=1.10\n",
    "\n",
    "        \n",
    "dev_1 = Developer('Bineeta', 'Mishra', 7000000)\n",
    "dev_2 = Developer('Tanu', 'Mishra', 9000000)\n",
    "\n",
    "\n",
    "print(dev_1.pay)\n",
    "dev_1.apply_raise()\n",
    "print(dev_1.pay) # raise is applied!"
   ]
  },
  {
   "cell_type": "code",
   "execution_count": 12,
   "metadata": {},
   "outputs": [
    {
     "name": "stdout",
     "output_type": "stream",
     "text": [
      "Bineeta.Mishra@company.com\n",
      "Java\n"
     ]
    }
   ],
   "source": [
    "class Employee:\n",
    "    \n",
    "    raise_amt = 1.04\n",
    "    \n",
    "    def __init__(self,first,last,pay):\n",
    "        self.firstName= first\n",
    "        self.last=last\n",
    "        self.pay= pay\n",
    "        self.email= first + '.' + last+ '@company.com'\n",
    "    \n",
    " #<--------   #Method to the class----->\n",
    "    \n",
    "    def fullname(self):\n",
    "        return '{} {}'.format(self.firstName,self.last)\n",
    "    \n",
    "    def apply_raise(self):\n",
    "        self.pay= int(self.pay*self.raise_amt)\n",
    "        \n",
    "class Developer(Employee):\n",
    "    raise_amt=1.10\n",
    "    \n",
    "    def __init__(self,first,last,pay,prog_lang):\n",
    "        super().__init__(first,last,pay) \n",
    "        self.prog_lang = prog_lang\n",
    "        #super will let the employee class __init__ handle the first,last,pay\n",
    "        #Employee.__init__(self,first,last,pay)\n",
    "\n",
    "        \n",
    "dev_1 = Developer('Bineeta', 'Mishra', 7000000,'python')\n",
    "dev_2 = Developer('Tanu', 'Mishra', 9000000, 'Java')\n",
    "\n",
    "\n",
    "print(dev_1.email)\n",
    "print(dev_2.prog_lang)"
   ]
  },
  {
   "cell_type": "code",
   "execution_count": 35,
   "metadata": {},
   "outputs": [
    {
     "name": "stdout",
     "output_type": "stream",
     "text": [
      "Sue.Susan@company.com\n",
      "--> Bineeta Mishra\n"
     ]
    }
   ],
   "source": [
    "# sub class manager\n",
    "\n",
    "class Employee:\n",
    "    \n",
    "    raise_amt = 1.04\n",
    "    \n",
    "    def __init__(self,first,last,pay):\n",
    "        self.firstName= first\n",
    "        self.last=last\n",
    "        self.pay= pay\n",
    "        self.email= first + '.' + last+ '@company.com'\n",
    "    \n",
    " #<--------   #Method to the class----->\n",
    "    \n",
    "    def fullname(self):\n",
    "        return '{} {}'.format(self.firstName,self.last)\n",
    "    \n",
    "    def apply_raise(self):\n",
    "        self.pay= int(self.pay*self.raise_amt)\n",
    "        \n",
    "class Developer(Employee):\n",
    "    raise_amt=1.10\n",
    "    \n",
    "    def __init__(self,first,last,pay,prog_lang):\n",
    "        super().__init__(first,last,pay) \n",
    "        self.prog_lang = prog_lang\n",
    "        #super will let the employee class __init__ handle the first,last,pay\n",
    "        #Employee.__init__(self,first,last,pay)\n",
    "\n",
    "class Manager(Employee):\n",
    "    \n",
    "    def __init__(self,first,last,pay,employees=None):\n",
    "        super().__init__(first,last,pay)\n",
    "        if employees is None:\n",
    "            self.employees=[]\n",
    "        \n",
    "        else:\n",
    "            self.employees=employees\n",
    "                \n",
    "    def add_emp(self,emp):\n",
    "        if emp not in self.employees:\n",
    "            self.employees.append(emp)\n",
    "    \n",
    "    def remove_emp(self,emp):\n",
    "        if emp in self.employees:\n",
    "            self.employees.remove(emp)\n",
    "        \n",
    "    def print_emps(self):\n",
    "        for emp in self.employees:\n",
    "            print('-->',emp.fullname())\n",
    "        \n",
    " \n",
    "dev_1 = Developer('Bineeta', 'Mishra', 7000000,'Python')\n",
    "dev_2 = Developer('Tanu', 'Mishra', 9000000, 'Java')\n",
    "\n",
    "\n",
    "mgr_1=Manager('Sue','Susan',9090000,[dev_1])\n",
    "\n",
    "print(mgr_1.email)\n",
    "\n",
    "mgr_1.print_emps()"
   ]
  },
  {
   "cell_type": "code",
   "execution_count": 38,
   "metadata": {},
   "outputs": [
    {
     "name": "stdout",
     "output_type": "stream",
     "text": [
      "Sue.Susan@company.com\n",
      "--> Tanu Mishra\n"
     ]
    }
   ],
   "source": [
    "# sub class manager\n",
    "\n",
    "class Employee:\n",
    "    \n",
    "    raise_amt = 1.04\n",
    "    \n",
    "    def __init__(self,first,last,pay):\n",
    "        self.firstName= first\n",
    "        self.last=last\n",
    "        self.pay= pay\n",
    "        self.email= first + '.' + last+ '@company.com'\n",
    "    \n",
    " #<--------   #Method to the class----->\n",
    "    \n",
    "    def fullname(self):\n",
    "        return '{} {}'.format(self.firstName,self.last)\n",
    "    \n",
    "    def apply_raise(self):\n",
    "        self.pay= int(self.pay*self.raise_amt)\n",
    "        \n",
    "class Developer(Employee):\n",
    "    raise_amt=1.10\n",
    "    \n",
    "    def __init__(self,first,last,pay,prog_lang):\n",
    "        super().__init__(first,last,pay) \n",
    "        self.prog_lang = prog_lang\n",
    "        #super will let the employee class __init__ handle the first,last,pay\n",
    "        #Employee.__init__(self,first,last,pay)\n",
    "\n",
    "class Manager(Employee):\n",
    "    \n",
    "    def __init__(self,first,last,pay,employees=None):\n",
    "        super().__init__(first,last,pay)\n",
    "        if employees is None:\n",
    "            self.employees=[]\n",
    "        \n",
    "        else:\n",
    "            self.employees=employees\n",
    "                \n",
    "    def add_emp(self,emp):\n",
    "        if emp not in self.employees:\n",
    "            self.employees.append(emp)\n",
    "    \n",
    "    def remove_emp(self,emp):\n",
    "        if emp in self.employees:\n",
    "            self.employees.remove(emp)\n",
    "        \n",
    "    def print_emps(self):\n",
    "        for emp in self.employees:\n",
    "            print('-->',emp.fullname())\n",
    "        \n",
    " \n",
    "dev_1 = Developer('Bineeta', 'Mishra', 7000000,'Python')\n",
    "dev_2 = Developer('Tanu', 'Mishra', 9000000, 'Java')\n",
    "\n",
    "\n",
    "mgr_1=Manager('Sue','Susan',9090000,[dev_1])\n",
    "\n",
    "mgr_1.add_emp(dev_2)\n",
    "\n",
    "mgr_1.remove_emp(dev_1)\n",
    "\n",
    "print(mgr_1.email)\n",
    "\n",
    "mgr_1.print_emps()"
   ]
  },
  {
   "cell_type": "code",
   "execution_count": 41,
   "metadata": {},
   "outputs": [
    {
     "name": "stdout",
     "output_type": "stream",
     "text": [
      "For Employee Class\n",
      "True\n",
      "For Developer Class\n",
      "False\n",
      "For Manager Class\n",
      "True\n"
     ]
    }
   ],
   "source": [
    "# isinstance\n",
    "\n",
    "print(\"For Employee Class\")\n",
    "print(isinstance(mgr_1,Employee))\n",
    "\n",
    "print(\"For Developer Class\")\n",
    "print(isinstance(mgr_1,Developer))\n",
    "\n",
    "\n",
    "print(\"For Manager Class\")\n",
    "print(isinstance(mgr_1,Manager))"
   ]
  },
  {
   "cell_type": "code",
   "execution_count": 45,
   "metadata": {},
   "outputs": [
    {
     "name": "stdout",
     "output_type": "stream",
     "text": [
      "True\n",
      "True\n",
      "False\n"
     ]
    }
   ],
   "source": [
    "# issubclass\n",
    "\n",
    "print(issubclass(Manager,Employee))\n",
    "print(issubclass(Developer,Employee))\n",
    "print(issubclass(Manager,Developer))"
   ]
  },
  {
   "cell_type": "code",
   "execution_count": null,
   "metadata": {},
   "outputs": [],
   "source": []
  },
  {
   "cell_type": "code",
   "execution_count": null,
   "metadata": {},
   "outputs": [],
   "source": []
  },
  {
   "cell_type": "code",
   "execution_count": null,
   "metadata": {},
   "outputs": [],
   "source": []
  }
 ],
 "metadata": {
  "kernelspec": {
   "display_name": "Python 3",
   "language": "python",
   "name": "python3"
  },
  "language_info": {
   "codemirror_mode": {
    "name": "ipython",
    "version": 3
   },
   "file_extension": ".py",
   "mimetype": "text/x-python",
   "name": "python",
   "nbconvert_exporter": "python",
   "pygments_lexer": "ipython3",
   "version": "3.7.6"
  }
 },
 "nbformat": 4,
 "nbformat_minor": 4
}
