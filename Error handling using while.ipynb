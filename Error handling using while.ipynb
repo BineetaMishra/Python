{
 "cells": [
  {
   "cell_type": "code",
   "execution_count": 3,
   "metadata": {},
   "outputs": [],
   "source": [
    "def squarenumber():\n",
    "    while True:\n",
    "        try:\n",
    "            i = int(input('Provide number '))\n",
    "            print (i**2)\n",
    "        except:\n",
    "            print(\"Opps! That is not a number\")\n",
    "            print(\"Enter a number\")\n",
    "            continue\n",
    "        else:\n",
    "            print(\"Numbr got\")\n",
    "            break\n",
    "        finally:\n",
    "            print('Thankyou')"
   ]
  },
  {
   "cell_type": "code",
   "execution_count": null,
   "metadata": {},
   "outputs": [
    {
     "name": "stdout",
     "output_type": "stream",
     "text": [
      "Provide number r\n",
      "Opps! That is not a number\n",
      "Enter a number\n",
      "Thankyou\n"
     ]
    }
   ],
   "source": [
    "squarenumber()"
   ]
  },
  {
   "cell_type": "code",
   "execution_count": null,
   "metadata": {},
   "outputs": [],
   "source": []
  }
 ],
 "metadata": {
  "kernelspec": {
   "display_name": "Python 3",
   "language": "python",
   "name": "python3"
  },
  "language_info": {
   "codemirror_mode": {
    "name": "ipython",
    "version": 3
   },
   "file_extension": ".py",
   "mimetype": "text/x-python",
   "name": "python",
   "nbconvert_exporter": "python",
   "pygments_lexer": "ipython3",
   "version": "3.7.6"
  }
 },
 "nbformat": 4,
 "nbformat_minor": 4
}
